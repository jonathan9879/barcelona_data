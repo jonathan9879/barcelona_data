{
 "cells": [
  {
   "cell_type": "markdown",
   "metadata": {},
   "source": [
    "## Accidents 2017"
   ]
  },
  {
   "cell_type": "code",
   "execution_count": 2,
   "metadata": {},
   "outputs": [],
   "source": [
    "import pandas as pd"
   ]
  },
  {
   "cell_type": "code",
   "execution_count": 110,
   "metadata": {},
   "outputs": [
    {
     "data": {
      "text/plain": [
       "19795"
      ]
     },
     "execution_count": 110,
     "metadata": {},
     "output_type": "execute_result"
    }
   ],
   "source": [
    "accidents_2017['Descripcio_tipus_vehicle'].count()\n",
    "# Accidentes totales"
   ]
  },
  {
   "cell_type": "code",
   "execution_count": 109,
   "metadata": {},
   "outputs": [
    {
     "data": {
      "text/plain": [
       "139"
      ]
     },
     "execution_count": 109,
     "metadata": {},
     "output_type": "execute_result"
    }
   ],
   "source": [
    "accidents_2017 = pd.read_csv('data/2017_accidents_vehicles_gu_bcn_.csv', encoding='latin1')\n",
    "\n",
    "accidents_2017_bicing = accidents_2017[accidents_2017['Descripcio_marca'] == 'BICING']\n",
    "accidents_2017_bicing['Descripcio_tipus_vehicle'].count()\n",
    "# Accidentes totales causados por bicing:"
   ]
  },
  {
   "cell_type": "code",
   "execution_count": 105,
   "metadata": {},
   "outputs": [
    {
     "data": {
      "text/plain": [
       "18"
      ]
     },
     "execution_count": 105,
     "metadata": {},
     "output_type": "execute_result"
    }
   ],
   "source": [
    "accidents_2017_bicing[accidents_2017_bicing['Descripcio_causa_vianant'] != 'No Ã©s causa del  vianant']['Descripcio_causa_vianant'].count()\n",
    "\n",
    "# Accidentes causados por bicing donde causa NO es de la victima:"
   ]
  },
  {
   "cell_type": "code",
   "execution_count": 84,
   "metadata": {},
   "outputs": [
    {
     "data": {
      "text/plain": [
       "No Ã©s causa del  vianant          121\n",
       "Altres                               8\n",
       "Desobeir el senyal del semÃ for      7\n",
       "Creuar per fora pas de vianants      3\n",
       "Name: Descripcio_causa_vianant, dtype: int64"
      ]
     },
     "execution_count": 84,
     "metadata": {},
     "output_type": "execute_result"
    }
   ],
   "source": [
    "accidents_2017_bicing['Descripcio_causa_vianant'].value_counts()\n",
    "\n",
    "# Diferentes causas de atropello con bicing"
   ]
  },
  {
   "cell_type": "markdown",
   "metadata": {},
   "source": [
    "## Accidents 2016"
   ]
  },
  {
   "cell_type": "code",
   "execution_count": 112,
   "metadata": {},
   "outputs": [
    {
     "data": {
      "text/plain": [
       "19409"
      ]
     },
     "execution_count": 112,
     "metadata": {},
     "output_type": "execute_result"
    }
   ],
   "source": [
    "accidents_2016['Descripcio_tipus_vehicle'].count()\n",
    "# Accidentes totales"
   ]
  },
  {
   "cell_type": "code",
   "execution_count": 111,
   "metadata": {},
   "outputs": [
    {
     "data": {
      "text/plain": [
       "162"
      ]
     },
     "execution_count": 111,
     "metadata": {},
     "output_type": "execute_result"
    }
   ],
   "source": [
    "accidents_2016 = pd.read_csv('data/2016_accidents_vehicles_gu_bcn_.csv', encoding='latin1')\n",
    "\n",
    "accidents_2016_bicing = accidents_2016[accidents_2016['Descripcio_marca'] == 'BICING']\n",
    "accidents_2016_bicing['Descripcio_tipus_vehicle'].count()\n",
    "# Accidentes totales causados por bicing:"
   ]
  },
  {
   "cell_type": "code",
   "execution_count": 106,
   "metadata": {},
   "outputs": [
    {
     "data": {
      "text/plain": [
       "10"
      ]
     },
     "execution_count": 106,
     "metadata": {},
     "output_type": "execute_result"
    }
   ],
   "source": [
    "accidents_2016_bicing[accidents_2016_bicing['Descripcio_causa_vianant'] != 'No Ã©s causa del  vianant']['Descripcio_causa_vianant'].count()\n",
    "\n",
    "# Accidentes causados por bicing donde causa NO es de la victima:"
   ]
  },
  {
   "cell_type": "code",
   "execution_count": 89,
   "metadata": {},
   "outputs": [
    {
     "data": {
      "text/plain": [
       "No Ã©s causa del  vianant          152\n",
       "Desobeir el senyal del semÃ for      5\n",
       "Altres                               3\n",
       "Creuar per fora pas de vianants      2\n",
       "Name: Descripcio_causa_vianant, dtype: int64"
      ]
     },
     "execution_count": 89,
     "metadata": {},
     "output_type": "execute_result"
    }
   ],
   "source": [
    "accidents_2016_bicing['Descripcio_causa_vianant'].value_counts()\n",
    "\n",
    "# Diferentes causas de atropello con bicing"
   ]
  },
  {
   "cell_type": "markdown",
   "metadata": {},
   "source": [
    "## Accidents 2015"
   ]
  },
  {
   "cell_type": "code",
   "execution_count": 113,
   "metadata": {},
   "outputs": [
    {
     "data": {
      "text/plain": [
       "19237"
      ]
     },
     "execution_count": 113,
     "metadata": {},
     "output_type": "execute_result"
    }
   ],
   "source": [
    "accidents_2015['Descripció tipus de vehicle'].count()\n",
    "# Accidentes totales"
   ]
  },
  {
   "cell_type": "code",
   "execution_count": 100,
   "metadata": {},
   "outputs": [
    {
     "data": {
      "text/plain": [
       "125"
      ]
     },
     "execution_count": 100,
     "metadata": {},
     "output_type": "execute_result"
    }
   ],
   "source": [
    "accidents_2015 = pd.read_csv('data/2015_accidents_vehicles_gu_bcn_2015.csv', encoding='latin1')\n",
    "accidents_2015_bicing = accidents_2015[accidents_2015['Descripció marca'] == 'BICING']\n",
    "accidents_2015_bicing['Descripció tipus de vehicle'].count()\n",
    "# Accidentes totales causados por bicing:"
   ]
  },
  {
   "cell_type": "code",
   "execution_count": 107,
   "metadata": {},
   "outputs": [
    {
     "data": {
      "text/plain": [
       "10"
      ]
     },
     "execution_count": 107,
     "metadata": {},
     "output_type": "execute_result"
    }
   ],
   "source": [
    "accidents_2015_bicing[accidents_2015_bicing['Descripció causa vianant'] != 'No és causa del  vianant']['Descripció causa vianant'].count()\n",
    "\n",
    "# Accidentes causados por bicing donde causa NO es de la victima:"
   ]
  },
  {
   "cell_type": "code",
   "execution_count": 104,
   "metadata": {},
   "outputs": [
    {
     "data": {
      "text/plain": [
       "No és causa del  vianant           115\n",
       "Desobeir el senyal del semàfor       5\n",
       "Altres                               3\n",
       "Creuar per fora pas de vianants      1\n",
       "Transitar a peu per la calçada       1\n",
       "Name: Descripció causa vianant, dtype: int64"
      ]
     },
     "execution_count": 104,
     "metadata": {},
     "output_type": "execute_result"
    }
   ],
   "source": [
    "accidents_2015_bicing['Descripció causa vianant'].value_counts()\n",
    "\n",
    "# Diferentes causas de atropello con bicing"
   ]
  },
  {
   "cell_type": "code",
   "execution_count": null,
   "metadata": {},
   "outputs": [],
   "source": []
  }
 ],
 "metadata": {
  "kernelspec": {
   "display_name": "Python 3",
   "language": "python",
   "name": "python3"
  },
  "language_info": {
   "codemirror_mode": {
    "name": "ipython",
    "version": 3
   },
   "file_extension": ".py",
   "mimetype": "text/x-python",
   "name": "python",
   "nbconvert_exporter": "python",
   "pygments_lexer": "ipython3",
   "version": "3.7.2"
  }
 },
 "nbformat": 4,
 "nbformat_minor": 2
}
