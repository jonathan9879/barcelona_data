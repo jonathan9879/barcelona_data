{
 "cells": [
  {
   "cell_type": "markdown",
   "metadata": {},
   "source": [
    "## Accidents 2017"
   ]
  },
  {
   "cell_type": "code",
   "execution_count": 3,
   "metadata": {},
   "outputs": [],
   "source": [
    "import pandas as pd"
   ]
  },
  {
   "cell_type": "code",
   "execution_count": 6,
   "metadata": {},
   "outputs": [],
   "source": [
    "accidents_2017 = pd.read_csv('data/2017_accidents_vehicles_gu_bcn_.csv', encoding='latin1')"
   ]
  },
  {
   "cell_type": "code",
   "execution_count": 22,
   "metadata": {},
   "outputs": [
    {
     "data": {
      "text/plain": [
       "19795"
      ]
     },
     "execution_count": 22,
     "metadata": {},
     "output_type": "execute_result"
    }
   ],
   "source": [
    "accidents_2017_count = accidents_2017['Descripcio_tipus_vehicle'].count()\n",
    "accidents_2017_count\n",
    "# Accidentes totales"
   ]
  },
  {
   "cell_type": "code",
   "execution_count": 23,
   "metadata": {},
   "outputs": [
    {
     "data": {
      "text/plain": [
       "861"
      ]
     },
     "execution_count": 23,
     "metadata": {},
     "output_type": "execute_result"
    }
   ],
   "source": [
    "accidents_2017_bici = accidents_2017[accidents_2017['Descripcio_tipus_vehicle'] == 'Bicicleta']\n",
    "accidents_2017_bici_count = accidents_2017_bici['Descripcio_tipus_vehicle'].count()\n",
    "accidents_2017_bici_count\n",
    "# Accaccidents_2017_bici_countidentes totales causados por bicicleta:"
   ]
  },
  {
   "cell_type": "code",
   "execution_count": 24,
   "metadata": {},
   "outputs": [
    {
     "data": {
      "text/plain": [
       "139"
      ]
     },
     "execution_count": 24,
     "metadata": {},
     "output_type": "execute_result"
    }
   ],
   "source": [
    "accidents_2017_bicing = accidents_2017[accidents_2017['Descripcio_marca'] == 'BICING']\n",
    "accidents_2017_bicing_count = accidents_2017_bicing['Descripcio_tipus_vehicle'].count()\n",
    "accidents_2017_bicing_count\n",
    "# Accidentes totales causados por bicing:"
   ]
  },
  {
   "cell_type": "code",
   "execution_count": 25,
   "metadata": {},
   "outputs": [
    {
     "data": {
      "text/plain": [
       "18"
      ]
     },
     "execution_count": 25,
     "metadata": {},
     "output_type": "execute_result"
    }
   ],
   "source": [
    "accidents_2017_bicing_cause_victim_count = accidents_2017_bicing[accidents_2017_bicing['Descripcio_causa_vianant'] != 'No Ã©s causa del  vianant']['Descripcio_causa_vianant'].count()\n",
    "accidents_2017_bicing_cause_victim_count\n",
    "# Accidentes causados por bicing donde causa es de la victima:"
   ]
  },
  {
   "cell_type": "code",
   "execution_count": 26,
   "metadata": {},
   "outputs": [
    {
     "data": {
      "text/plain": [
       "No Ã©s causa del  vianant          121\n",
       "Altres                               8\n",
       "Desobeir el senyal del semÃ for      7\n",
       "Creuar per fora pas de vianants      3\n",
       "Name: Descripcio_causa_vianant, dtype: int64"
      ]
     },
     "execution_count": 26,
     "metadata": {},
     "output_type": "execute_result"
    }
   ],
   "source": [
    "accidents_2017_bicing['Descripcio_causa_vianant'].value_counts()\n",
    "\n",
    "# Diferentes causas de atropello con bicing"
   ]
  },
  {
   "cell_type": "markdown",
   "metadata": {},
   "source": [
    "## Accidents 2016"
   ]
  },
  {
   "cell_type": "code",
   "execution_count": 27,
   "metadata": {},
   "outputs": [],
   "source": [
    "accidents_2016 = pd.read_csv('data/2016_accidents_vehicles_gu_bcn_.csv', encoding='latin1')"
   ]
  },
  {
   "cell_type": "code",
   "execution_count": 28,
   "metadata": {},
   "outputs": [
    {
     "data": {
      "text/plain": [
       "19409"
      ]
     },
     "execution_count": 28,
     "metadata": {},
     "output_type": "execute_result"
    }
   ],
   "source": [
    "accidents_2016_count = accidents_2016['Descripcio_tipus_vehicle'].count()\n",
    "accidents_2016_count\n",
    "# Accidentes totales"
   ]
  },
  {
   "cell_type": "code",
   "execution_count": 29,
   "metadata": {},
   "outputs": [
    {
     "data": {
      "text/plain": [
       "831"
      ]
     },
     "execution_count": 29,
     "metadata": {},
     "output_type": "execute_result"
    }
   ],
   "source": [
    "accidents_2016_bici = accidents_2016[accidents_2016['Descripcio_tipus_vehicle'] == 'Bicicleta']\n",
    "accidents_2016_bici_count = accidents_2016_bici['Descripcio_tipus_vehicle'].count()\n",
    "accidents_2016_bici_count\n",
    "# Accidentes totales causados por bicicleta:"
   ]
  },
  {
   "cell_type": "code",
   "execution_count": 30,
   "metadata": {},
   "outputs": [
    {
     "data": {
      "text/plain": [
       "162"
      ]
     },
     "execution_count": 30,
     "metadata": {},
     "output_type": "execute_result"
    }
   ],
   "source": [
    "accidents_2016_bicing = accidents_2016[accidents_2016['Descripcio_marca'] == 'BICING']\n",
    "accidents_2016_bicing_count = accidents_2016_bicing['Descripcio_tipus_vehicle'].count()\n",
    "accidents_2016_bicing_count\n",
    "# Accidentes totales causados por bicing:"
   ]
  },
  {
   "cell_type": "code",
   "execution_count": 21,
   "metadata": {},
   "outputs": [
    {
     "data": {
      "text/plain": [
       "10"
      ]
     },
     "execution_count": 21,
     "metadata": {},
     "output_type": "execute_result"
    }
   ],
   "source": [
    "accidents_2016_bicing_cause_victim_count = accidents_2016_bicing[accidents_2016_bicing['Descripcio_causa_vianant'] != 'No Ã©s causa del  vianant']['Descripcio_causa_vianant'].count()\n",
    "accidents_2016_bicing_cause_victim_count\n",
    "# Accidentes causados por bicing donde causa es de la victima:"
   ]
  },
  {
   "cell_type": "code",
   "execution_count": 89,
   "metadata": {},
   "outputs": [
    {
     "data": {
      "text/plain": [
       "No Ã©s causa del  vianant          152\n",
       "Desobeir el senyal del semÃ for      5\n",
       "Altres                               3\n",
       "Creuar per fora pas de vianants      2\n",
       "Name: Descripcio_causa_vianant, dtype: int64"
      ]
     },
     "execution_count": 89,
     "metadata": {},
     "output_type": "execute_result"
    }
   ],
   "source": [
    "accidents_2016_bicing['Descripcio_causa_vianant'].value_counts()\n",
    "\n",
    "# Diferentes causas de atropello con bicing"
   ]
  },
  {
   "cell_type": "markdown",
   "metadata": {},
   "source": [
    "## Accidents 2015"
   ]
  },
  {
   "cell_type": "code",
   "execution_count": 32,
   "metadata": {},
   "outputs": [],
   "source": [
    "accidents_2015 = pd.read_csv('data/2015_accidents_vehicles_gu_bcn_2015.csv', encoding='latin1')"
   ]
  },
  {
   "cell_type": "code",
   "execution_count": 33,
   "metadata": {},
   "outputs": [],
   "source": [
    "accidents_2015_count = accidents_2015['Descripció tipus de vehicle'].count()\n",
    "# Accidentes totales"
   ]
  },
  {
   "cell_type": "code",
   "execution_count": 34,
   "metadata": {},
   "outputs": [
    {
     "data": {
      "text/plain": [
       "691"
      ]
     },
     "execution_count": 34,
     "metadata": {},
     "output_type": "execute_result"
    }
   ],
   "source": [
    "accidents_2015_bici = accidents_2015[accidents_2015['Descripció tipus de vehicle'] == 'Bicicleta']\n",
    "accidents_2015_bici_count = accidents_2015_bici['Descripció tipus de vehicle'].count()\n",
    "accidents_2015_bici_count\n",
    "# Accidentes totales causados por bicicleta:"
   ]
  },
  {
   "cell_type": "code",
   "execution_count": 35,
   "metadata": {},
   "outputs": [
    {
     "data": {
      "text/plain": [
       "125"
      ]
     },
     "execution_count": 35,
     "metadata": {},
     "output_type": "execute_result"
    }
   ],
   "source": [
    "accidents_2015_bicing = accidents_2015[accidents_2015['Descripció marca'] == 'BICING']\n",
    "accidents_2015_bicing_count = accidents_2015_bicing['Descripció tipus de vehicle'].count()\n",
    "accidents_2015_bicing_count\n",
    "# Accidentes totales causados por bicing:"
   ]
  },
  {
   "cell_type": "code",
   "execution_count": 36,
   "metadata": {},
   "outputs": [
    {
     "data": {
      "text/plain": [
       "10"
      ]
     },
     "execution_count": 36,
     "metadata": {},
     "output_type": "execute_result"
    }
   ],
   "source": [
    "accidents_2015_bicing_cause_victim_count = accidents_2015_bicing[accidents_2015_bicing['Descripció causa vianant'] != 'No és causa del  vianant']['Descripció causa vianant'].count()\n",
    "accidents_2015_bicing_cause_victim_count\n",
    "# Accidentes causados por bicing donde causa es de la victima:"
   ]
  },
  {
   "cell_type": "code",
   "execution_count": 37,
   "metadata": {},
   "outputs": [
    {
     "data": {
      "text/plain": [
       "No és causa del  vianant           115\n",
       "Desobeir el senyal del semàfor       5\n",
       "Altres                               3\n",
       "Transitar a peu per la calçada       1\n",
       "Creuar per fora pas de vianants      1\n",
       "Name: Descripció causa vianant, dtype: int64"
      ]
     },
     "execution_count": 37,
     "metadata": {},
     "output_type": "execute_result"
    }
   ],
   "source": [
    "accidents_2015_bicing['Descripció causa vianant'].value_counts()\n",
    "\n",
    "# Diferentes causas de atropello con bicing"
   ]
  },
  {
   "cell_type": "markdown",
   "metadata": {},
   "source": [
    "## Accidents 2015-2017"
   ]
  },
  {
   "cell_type": "code",
   "execution_count": 41,
   "metadata": {},
   "outputs": [
    {
     "data": {
      "text/plain": [
       "19480"
      ]
     },
     "execution_count": 41,
     "metadata": {},
     "output_type": "execute_result"
    }
   ],
   "source": [
    "accidents_15_17_mean = int((accidents_2015_count + accidents_2016_count + accidents_2017_count) / 3)\n",
    "accidents_15_17_mean\n",
    "# Media de accidentes entre 2015 y 2017"
   ]
  },
  {
   "cell_type": "code",
   "execution_count": 42,
   "metadata": {},
   "outputs": [
    {
     "data": {
      "text/plain": [
       "794"
      ]
     },
     "execution_count": 42,
     "metadata": {},
     "output_type": "execute_result"
    }
   ],
   "source": [
    "accidents_bici_15_17_mean = int((accidents_2015_bici_count + accidents_2016_bici_count + accidents_2017_bici_count) / 3)\n",
    "accidents_bici_15_17_mean\n",
    "# Media de accidentes causados por bici entre 2015 y 2017"
   ]
  },
  {
   "cell_type": "code",
   "execution_count": 79,
   "metadata": {},
   "outputs": [
    {
     "data": {
      "text/plain": [
       "142"
      ]
     },
     "execution_count": 79,
     "metadata": {},
     "output_type": "execute_result"
    }
   ],
   "source": [
    "accidents_bicing_15_17_mean = int((accidents_2015_bicing_count + accidents_2016_bicing_count + accidents_2017_bicing_count) / 3)\n",
    "accidents_bicing_15_17_mean\n",
    "# Media de accidentes causados por bici entre 2015 y 2017"
   ]
  },
  {
   "cell_type": "code",
   "execution_count": 44,
   "metadata": {},
   "outputs": [
    {
     "data": {
      "text/plain": [
       "12"
      ]
     },
     "execution_count": 44,
     "metadata": {},
     "output_type": "execute_result"
    }
   ],
   "source": [
    "accidents_bicing_cause_victim_2015_2017_mean = int((accidents_2015_bicing_cause_victim_count + accidents_2016_bicing_cause_victim_count + accidents_2017_bicing_cause_victim_count) / 3)\n",
    "accidents_bicing_cause_victim_2015_2017_mean\n",
    "# Media de accidentes causados por bici donde el causante era el vianante entre 2015 y 2017"
   ]
  },
  {
   "cell_type": "code",
   "execution_count": 78,
   "metadata": {},
   "outputs": [
    {
     "data": {
      "text/plain": [
       "13637935"
      ]
     },
     "execution_count": 78,
     "metadata": {},
     "output_type": "execute_result"
    }
   ],
   "source": [
    "demanda_bicing = pd.read_csv('data/demanda_bicing.csv', sep = ';', encoding = 'ISO-8859-1')\n",
    "demanda_bicing_anual = demanda_bicing[demanda_bicing['Mes'] == 'Anual']\n",
    "demanda_bicing_anual_15_17 = demanda_bicing_anual[demanda_bicing_anual['Anys'] >= 2015 ]\n",
    "demanda_bicing_anual_15_17_mean = int((demanda_bicing_anual_15_17['Valor'].sum()) / 3)\n",
    "demanda_bicing_anual_15_17_mean\n",
    "\n",
    "# Uso anual entre 2015 y 2017"
   ]
  },
  {
   "cell_type": "code",
   "execution_count": 85,
   "metadata": {},
   "outputs": [
    {
     "data": {
      "text/plain": [
       "0.001"
      ]
     },
     "execution_count": 85,
     "metadata": {},
     "output_type": "execute_result"
    }
   ],
   "source": [
    "ratio_accidents_bicing_and_usage = (accidents_bicing_15_17_mean / demanda_bicing_anual_15_17_mean) * 100\n",
    "round(ratio_accidents_bicing_and_usage, 3)\n",
    "\n",
    "# Ratio entre accidentes provocados por el bicing y el uso total del bicing"
   ]
  },
  {
   "cell_type": "code",
   "execution_count": null,
   "metadata": {},
   "outputs": [],
   "source": []
  }
 ],
 "metadata": {
  "kernelspec": {
   "display_name": "Python 3",
   "language": "python",
   "name": "python3"
  }
 },
 "nbformat": 4,
 "nbformat_minor": 2
}
